{
 "cells": [
  {
   "cell_type": "code",
   "execution_count": 1,
   "id": "a5d19070",
   "metadata": {},
   "outputs": [],
   "source": [
    "import numpy as np"
   ]
  },
  {
   "cell_type": "code",
   "execution_count": 2,
   "id": "40408bd1",
   "metadata": {},
   "outputs": [],
   "source": [
    "file = \"sample-input.txt\""
   ]
  },
  {
   "cell_type": "code",
   "execution_count": 3,
   "id": "d5d657f6",
   "metadata": {},
   "outputs": [],
   "source": [
    "class Vehicle:\n",
    "    def __init__(self,char, axis ,x, y,length,fuel=100):\n",
    "        if char.alpha:\n",
    "            self.char = char\n",
    "        else:\n",
    "            raise ValueError('Not a letter.')\n",
    "        if 0 <= x <=5:\n",
    "            self.x = x\n",
    "        else:\n",
    "             raise ValueError('x is wrong size')\n",
    "        if 0 <= y <=5:\n",
    "            self.y = y\n",
    "            raise ValueError('y is wrong size')\n",
    "       \n",
    "        if axis == \"horizontal\":\n",
    "            self.axis = axis\n",
    "            back_x = self.x + (self.length - 1)\n",
    "            back_y = self.y\n",
    "        elif axis == \"vertical\":\n",
    "            back_x = self.x\n",
    "            back_y = self.y + (self.length - 1)\n",
    "        else:\n",
    "            raise ValueError('Wrong axis {0}'.format(axis))\n",
    "            \n",
    "        if back_x > 5 or back_y > 5:\n",
    "            raise ValueError('Outside board')\n",
    "            \n",
    "        self.fuel = fuel\n",
    "            \n",
    "    def __str__(self):\n",
    "        return f\"Vehicle({self.char},{self.axis},{self.x},{self.y},{self.length},{self.fuel})\""
   ]
  },
  {
   "cell_type": "code",
   "execution_count": 4,
   "id": "a6f5260f",
   "metadata": {},
   "outputs": [],
   "source": [
    "fuel = {}"
   ]
  },
  {
   "cell_type": "code",
   "execution_count": 5,
   "id": "771bf99e",
   "metadata": {},
   "outputs": [],
   "source": [
    "def string_to_matrix(line,n):\n",
    "    temp = [line[char: char + n] for char in range(0, len(line), n)]\n",
    "    \n",
    "    matrix = [list(x) for x in temp]\n",
    "    \n",
    "    return np.array(matrix)\n",
    "    "
   ]
  },
  {
   "cell_type": "code",
   "execution_count": 6,
   "id": "b7f167de",
   "metadata": {},
   "outputs": [],
   "source": [
    "def start_board(path,fuel,n):\n",
    "    with open(path) as f:\n",
    "        games = []\n",
    "        vehicles = []\n",
    "        num_games = 0\n",
    "        for line in f.readlines():\n",
    "            board = []\n",
    "            if line[0] ==\"#\" or line[0]==\"\\n\":\n",
    "                continue\n",
    "                \n",
    "            elif any(chr.isdigit() for chr in line):\n",
    "\n",
    "                cars0_fuel = line.split()\n",
    "                for pair in cars0_fuel[1:]:\n",
    "                    fuel[num_games] = {pair[0]:pair[1]}\n",
    "                \n",
    "                matrix = string_to_matrix(cars0_fuel[0],n)\n",
    "                #return matrix\n",
    "                games.append(matrix)\n",
    "               \n",
    "                num_games+=1\n",
    "\n",
    "                \n",
    "        \n",
    "        return games\n",
    "            \n",
    "                \n",
    "            \n",
    "                        \n",
    "                \n",
    "        \n",
    "    "
   ]
  },
  {
   "cell_type": "code",
   "execution_count": 7,
   "id": "a26bbfbb",
   "metadata": {
    "scrolled": true
   },
   "outputs": [],
   "source": [
    "games = start_board(file,fuel,6)"
   ]
  },
  {
   "cell_type": "code",
   "execution_count": 8,
   "id": "b96cd804",
   "metadata": {},
   "outputs": [
    {
     "data": {
      "text/plain": [
       "[array([['B', 'B', 'B', '.', '.', 'M'],\n",
       "        ['C', 'C', 'D', 'D', '.', 'M'],\n",
       "        ['A', 'A', 'K', 'L', '.', 'M'],\n",
       "        ['J', '.', 'K', 'L', 'E', 'E'],\n",
       "        ['J', '.', 'G', 'G', '.', '.'],\n",
       "        ['J', 'H', 'H', 'H', 'I', 'I']], dtype='<U1'),\n",
       " array([['I', 'J', 'B', 'B', 'C', 'C'],\n",
       "        ['I', 'J', 'D', 'D', 'L', '.'],\n",
       "        ['I', 'J', 'A', 'A', 'L', '.'],\n",
       "        ['E', 'E', 'K', '.', 'L', '.'],\n",
       "        ['.', '.', 'K', 'F', 'F', '.'],\n",
       "        ['.', 'G', 'G', 'H', 'H', '.']], dtype='<U1')]"
      ]
     },
     "execution_count": 8,
     "metadata": {},
     "output_type": "execute_result"
    }
   ],
   "source": [
    "games"
   ]
  },
  {
   "cell_type": "code",
   "execution_count": 9,
   "id": "96e85366",
   "metadata": {},
   "outputs": [],
   "source": [
    "count = 0"
   ]
  },
  {
   "cell_type": "code",
   "execution_count": 10,
   "id": "7d9f5bd3",
   "metadata": {},
   "outputs": [],
   "source": [
    "for board in games:\n",
    "   \n",
    "    the_fuels = fuel.get(count)\n",
    "    for row in board:\n",
    "        for ele in row:\n",
    "            if ele == '.':\n",
    "                continue\n",
    "            else:\n",
    "                if ele not in the_fuels:\n",
    "                    fuel.get(count)[ele] = 100\n",
    "    count += 1 \n",
    "#         if car not in the_fuels:\n",
    "#             fuel.get(count)[car] = 100\n",
    "            "
   ]
  },
  {
   "cell_type": "code",
   "execution_count": 11,
   "id": "746432ae",
   "metadata": {
    "scrolled": false
   },
   "outputs": [
    {
     "data": {
      "text/plain": [
       "[array([['B', 'B', 'B', '.', '.', 'M'],\n",
       "        ['C', 'C', 'D', 'D', '.', 'M'],\n",
       "        ['A', 'A', 'K', 'L', '.', 'M'],\n",
       "        ['J', '.', 'K', 'L', 'E', 'E'],\n",
       "        ['J', '.', 'G', 'G', '.', '.'],\n",
       "        ['J', 'H', 'H', 'H', 'I', 'I']], dtype='<U1'),\n",
       " array([['I', 'J', 'B', 'B', 'C', 'C'],\n",
       "        ['I', 'J', 'D', 'D', 'L', '.'],\n",
       "        ['I', 'J', 'A', 'A', 'L', '.'],\n",
       "        ['E', 'E', 'K', '.', 'L', '.'],\n",
       "        ['.', '.', 'K', 'F', 'F', '.'],\n",
       "        ['.', 'G', 'G', 'H', 'H', '.']], dtype='<U1')]"
      ]
     },
     "execution_count": 11,
     "metadata": {},
     "output_type": "execute_result"
    }
   ],
   "source": [
    "games"
   ]
  },
  {
   "cell_type": "code",
   "execution_count": 12,
   "id": "13385a49",
   "metadata": {
    "scrolled": true
   },
   "outputs": [
    {
     "data": {
      "text/plain": [
       "array(['B', 'D', 'K', 'K', 'G', 'H'], dtype='<U1')"
      ]
     },
     "execution_count": 12,
     "metadata": {},
     "output_type": "execute_result"
    }
   ],
   "source": [
    "games[0][:,2]"
   ]
  },
  {
   "cell_type": "code",
   "execution_count": 13,
   "id": "a80e0bad",
   "metadata": {
    "scrolled": true
   },
   "outputs": [
    {
     "data": {
      "text/plain": [
       "{0: {'B': '4',\n",
       "  'M': 100,\n",
       "  'C': 100,\n",
       "  'D': 100,\n",
       "  'A': 100,\n",
       "  'K': 100,\n",
       "  'L': 100,\n",
       "  'J': 100,\n",
       "  'E': 100,\n",
       "  'G': 100,\n",
       "  'H': 100,\n",
       "  'I': 100},\n",
       " 1: {'G': '6',\n",
       "  'I': 100,\n",
       "  'J': 100,\n",
       "  'B': 100,\n",
       "  'C': 100,\n",
       "  'D': 100,\n",
       "  'L': 100,\n",
       "  'A': 100,\n",
       "  'E': 100,\n",
       "  'K': 100,\n",
       "  'F': 100,\n",
       "  'H': 100}}"
      ]
     },
     "execution_count": 13,
     "metadata": {},
     "output_type": "execute_result"
    }
   ],
   "source": [
    "fuel"
   ]
  },
  {
   "cell_type": "code",
   "execution_count": 14,
   "id": "a5e03b80",
   "metadata": {},
   "outputs": [],
   "source": [
    "# #checks the first element of the row in a board for if it equals the next element \n",
    "#     if yes then it is horizontal\n",
    "#         if the letter has already been put as horizontal, then the next if wont trigger.\n",
    "#         however if the letter hasn't been seen yet (put as horizonatal) then it must be the start.\n",
    "#         so label that letter as horizontal\n",
    "#         else\n",
    "#             if the next letter from the start isn't the same as the current one, then it must be vertical.\n",
    "#                 put it in verticals{} if not there\n",
    "#         elif the current ele is the last one, "
   ]
  },
  {
   "cell_type": "code",
   "execution_count": 15,
   "id": "9ee54bb2",
   "metadata": {},
   "outputs": [],
   "source": [
    "horizontals = {}\n",
    "verticals = {}\n",
    "\n",
    "for count,board in enumerate(games):\n",
    "    for row in board:\n",
    "        ele_count = 0\n",
    "        for ele in row:\n",
    "            if ele == '.':\n",
    "                continue\n",
    "            else:\n",
    "                if ele_count == 0:\n",
    "                    if ele == row[ele_count + 1]:\n",
    "                        if ele not in horizontals:\n",
    "                            horizontals[ele] = {count:\"horizontal\"}\n",
    "                    else:\n",
    "                        if ele not in verticals:\n",
    "                            verticals[ele] = {count:\"vertical\"}\n",
    "                elif ele_count == len(row)-1:\n",
    "                    if ele == row[-2]:\n",
    "                        if ele not in horizontals:\n",
    "                            horizontals[ele] = {count:\"horizontal\"}\n",
    "                    else:\n",
    "                        if ele not in verticals:\n",
    "                            verticals[ele] = {count:\"vertical\"}\n",
    "                else:\n",
    "                    if ele == row[ele_count - 1] or ele == row[ele_count + 1]:\n",
    "                        if ele not in horizontals:\n",
    "                            horizontals[ele] = {count:\"horizontal\"}\n",
    "                    else:\n",
    "                        if ele not in verticals:\n",
    "                            verticals[ele] = {board:\"vertical\"}\n",
    "        ele_count += 1            \n",
    "                    \n",
    "            \n",
    "            "
   ]
  },
  {
   "cell_type": "code",
   "execution_count": 16,
   "id": "aaf77d90",
   "metadata": {},
   "outputs": [
    {
     "data": {
      "text/plain": [
       "{'M': {0: 'vertical'},\n",
       " 'D': {0: 'vertical'},\n",
       " 'K': {0: 'vertical'},\n",
       " 'L': {0: 'vertical'},\n",
       " 'J': {0: 'vertical'},\n",
       " 'E': {0: 'vertical'},\n",
       " 'G': {0: 'vertical'},\n",
       " 'I': {0: 'vertical'},\n",
       " 'B': {1: 'vertical'},\n",
       " 'C': {1: 'vertical'},\n",
       " 'A': {1: 'vertical'},\n",
       " 'F': {1: 'vertical'},\n",
       " 'H': {1: 'vertical'}}"
      ]
     },
     "execution_count": 16,
     "metadata": {},
     "output_type": "execute_result"
    }
   ],
   "source": [
    "verticals"
   ]
  },
  {
   "cell_type": "code",
   "execution_count": 17,
   "id": "7ebaf0f1",
   "metadata": {},
   "outputs": [
    {
     "data": {
      "text/plain": [
       "{'B': {0: 'horizontal'},\n",
       " 'C': {0: 'horizontal'},\n",
       " 'A': {0: 'horizontal'},\n",
       " 'H': {0: 'horizontal'},\n",
       " 'J': {1: 'horizontal'},\n",
       " 'E': {1: 'horizontal'},\n",
       " 'G': {1: 'horizontal'}}"
      ]
     },
     "execution_count": 17,
     "metadata": {},
     "output_type": "execute_result"
    }
   ],
   "source": [
    "horizontals"
   ]
  },
  {
   "cell_type": "code",
   "execution_count": 18,
   "id": "e0d53599",
   "metadata": {},
   "outputs": [
    {
     "ename": "AttributeError",
     "evalue": "'dict' object has no attribute 'append'",
     "output_type": "error",
     "traceback": [
      "\u001b[1;31m---------------------------------------------------------------------------\u001b[0m",
      "\u001b[1;31mAttributeError\u001b[0m                            Traceback (most recent call last)",
      "\u001b[1;32m<ipython-input-18-23b4612f4287>\u001b[0m in \u001b[0;36m<module>\u001b[1;34m\u001b[0m\n\u001b[0;32m      3\u001b[0m     \u001b[1;32mfor\u001b[0m \u001b[0my\u001b[0m \u001b[1;32min\u001b[0m \u001b[0mverticals\u001b[0m\u001b[1;33m:\u001b[0m\u001b[1;33m\u001b[0m\u001b[1;33m\u001b[0m\u001b[0m\n\u001b[0;32m      4\u001b[0m         \u001b[1;32mif\u001b[0m \u001b[0mx\u001b[0m \u001b[1;33m==\u001b[0m \u001b[0my\u001b[0m\u001b[1;33m:\u001b[0m\u001b[1;33m\u001b[0m\u001b[1;33m\u001b[0m\u001b[0m\n\u001b[1;32m----> 5\u001b[1;33m             \u001b[0mall_axis\u001b[0m\u001b[1;33m[\u001b[0m\u001b[0mx\u001b[0m\u001b[1;33m]\u001b[0m\u001b[1;33m.\u001b[0m\u001b[0mappend\u001b[0m\u001b[1;33m(\u001b[0m\u001b[0mverticals\u001b[0m\u001b[1;33m.\u001b[0m\u001b[0mget\u001b[0m\u001b[1;33m(\u001b[0m\u001b[0my\u001b[0m\u001b[1;33m)\u001b[0m\u001b[1;33m)\u001b[0m\u001b[1;33m\u001b[0m\u001b[1;33m\u001b[0m\u001b[0m\n\u001b[0m\u001b[0;32m      6\u001b[0m         \u001b[1;32melse\u001b[0m\u001b[1;33m:\u001b[0m\u001b[1;33m\u001b[0m\u001b[1;33m\u001b[0m\u001b[0m\n\u001b[0;32m      7\u001b[0m             \u001b[0mall_axis\u001b[0m\u001b[1;33m[\u001b[0m\u001b[0my\u001b[0m\u001b[1;33m]\u001b[0m \u001b[1;33m=\u001b[0m \u001b[0mverticals\u001b[0m\u001b[1;33m.\u001b[0m\u001b[0mget\u001b[0m\u001b[1;33m(\u001b[0m\u001b[0my\u001b[0m\u001b[1;33m)\u001b[0m\u001b[1;33m\u001b[0m\u001b[1;33m\u001b[0m\u001b[0m\n",
      "\u001b[1;31mAttributeError\u001b[0m: 'dict' object has no attribute 'append'"
     ]
    }
   ],
   "source": [
    "all_axis = horizontals.copy()\n",
    "for x in all_axis:\n",
    "    for y in verticals:\n",
    "        if x == y:\n",
    "            all_axis[x].append(verticals.get(y))\n",
    "        else:\n",
    "            all_axis[y] = verticals.get(y)\n",
    "            "
   ]
  },
  {
   "cell_type": "code",
   "execution_count": 19,
   "id": "7ae5751c",
   "metadata": {},
   "outputs": [],
   "source": [
    "graph = {\n",
    "  'A' : ['B','C'],\n",
    "  'B' : ['D', 'E'],\n",
    "  'C' : ['F'],\n",
    "  'D' : [],\n",
    "  'E' : ['F'],\n",
    "  'F' : []\n",
    "}\n"
   ]
  },
  {
   "cell_type": "code",
   "execution_count": 20,
   "id": "a6a18044",
   "metadata": {},
   "outputs": [
    {
     "data": {
      "text/plain": [
       "['A', 'B', 'C', 'D', 'E', 'F']"
      ]
     },
     "execution_count": 20,
     "metadata": {},
     "output_type": "execute_result"
    }
   ],
   "source": [
    "visited = ['A']\n",
    "queue = ['A']\n",
    "\n",
    "while(queue):\n",
    "    s = queue.pop(0)\n",
    "    \n",
    "    for stuff in graph[s]:\n",
    "        if stuff not in visited:\n",
    "            visited.append(stuff)\n",
    "            queue.append(stuff)\n",
    "visited"
   ]
  },
  {
   "cell_type": "code",
   "execution_count": 21,
   "id": "fbd8f395",
   "metadata": {},
   "outputs": [],
   "source": [
    "arr =games[0]"
   ]
  },
  {
   "cell_type": "code",
   "execution_count": 22,
   "id": "e78d50a1",
   "metadata": {},
   "outputs": [
    {
     "data": {
      "text/plain": [
       "array([['B', 'B', 'B', '.', '.', 'M'],\n",
       "       ['C', 'C', 'D', 'D', '.', 'M'],\n",
       "       ['A', 'A', 'K', 'L', '.', 'M'],\n",
       "       ['J', '.', 'K', 'L', 'E', 'E'],\n",
       "       ['J', '.', 'G', 'G', '.', '.'],\n",
       "       ['J', 'H', 'H', 'H', 'I', 'I']], dtype='<U1')"
      ]
     },
     "execution_count": 22,
     "metadata": {},
     "output_type": "execute_result"
    }
   ],
   "source": [
    "arr"
   ]
  },
  {
   "cell_type": "code",
   "execution_count": 23,
   "id": "e10c5cba",
   "metadata": {},
   "outputs": [],
   "source": [
    "class veh:\n",
    "    def __init__(self,id,x,y,length,orientation):\n",
    "        self.x = x\n",
    "        self.y = y\n",
    "        self.id = id\n",
    "        self.length = length\n",
    "        self.orientation = orientation\n",
    "        "
   ]
  },
  {
   "cell_type": "code",
   "execution_count": 24,
   "id": "87ba95cd",
   "metadata": {},
   "outputs": [],
   "source": [
    "A = veh('A',2,0,2,'H')\n",
    "B = veh('B',0,0,3,'H')\n",
    "C = veh('C',1,0,2,'H')\n",
    "D = veh('D',1,2,2,'H')\n",
    "E = veh('E',3,4,2,'H')\n",
    "G = veh('G',4,2,2,'H')\n",
    "H = veh('H',5,1,3,'H')\n",
    "I = veh('I',5,4,2,'H')\n",
    "J = veh('J',3,0,3,'V')\n",
    "K = veh('K',2,2,2,'V')\n",
    "L = veh('L',2,3,2,'V') \n",
    "M = veh('M',0,5,3,'V')\n",
    "\n",
    "\n",
    "l1 = [A,\n",
    "B,\n",
    "C,\n",
    "D,\n",
    "E,\n",
    "G,\n",
    "H,\n",
    "I,\n",
    "J,\n",
    "K,\n",
    "L,\n",
    "M]"
   ]
  },
  {
   "cell_type": "code",
   "execution_count": 25,
   "id": "32089dd1",
   "metadata": {},
   "outputs": [],
   "source": [
    "emp = np.empty([6, 6], dtype=\"str\")\n",
    "for stuff in l1:\n",
    "\n",
    "    if stuff.orientation == 'V':\n",
    "        emp[stuff.x:stuff.x+stuff.length,stuff.y] = stuff.id\n",
    "    if stuff.orientation == 'H':\n",
    "        emp[stuff.x,stuff.y:stuff.y+stuff.length] = stuff.id\n",
    "\n",
    "emp[2,4:6] ='A'\n",
    "        \n",
    "\n",
    "    \n",
    "    "
   ]
  },
  {
   "cell_type": "code",
   "execution_count": 26,
   "id": "7c2fe5e7",
   "metadata": {},
   "outputs": [
    {
     "data": {
      "text/plain": [
       "array([['B', 'B', 'B', '', '', 'M'],\n",
       "       ['C', 'C', 'D', 'D', '', 'M'],\n",
       "       ['A', 'A', 'K', 'L', 'A', 'A'],\n",
       "       ['J', '', 'K', 'L', 'E', 'E'],\n",
       "       ['J', '', 'G', 'G', '', ''],\n",
       "       ['J', 'H', 'H', 'H', 'I', 'I']], dtype='<U1')"
      ]
     },
     "execution_count": 26,
     "metadata": {},
     "output_type": "execute_result"
    }
   ],
   "source": [
    "emp"
   ]
  },
  {
   "cell_type": "code",
   "execution_count": 27,
   "id": "7f96a042",
   "metadata": {},
   "outputs": [],
   "source": [
    "from collections import deque"
   ]
  },
  {
   "cell_type": "code",
   "execution_count": 33,
   "id": "64ca3df3",
   "metadata": {},
   "outputs": [],
   "source": [
    "class bb:\n",
    "    \n",
    "    def __init__(self,vehicles):\n",
    "        self.vehicles = vehicles\n",
    "        \n",
    "        emp = np.empty([6, 6], dtype=\"str\")\n",
    "        emp[emp == ''] = ' '\n",
    "        for stuff in vehicles:\n",
    "            if stuff.orientation == 'V':\n",
    "                emp[stuff.x:stuff.x+stuff.length,stuff.y] = stuff.id\n",
    "            if stuff.orientation == 'H':\n",
    "                emp[stuff.x,stuff.y:stuff.y+stuff.length] = stuff.id\n",
    "        \n",
    "        self.board = emp \n",
    "\n",
    "        \n",
    "    \n",
    "    \n",
    "    \n",
    "    def moves(self):\n",
    "            board = self.board\n",
    "            for v in self.vehicles:\n",
    "                if v.orientation == 'Vertical':\n",
    "                    if v.x - 1 >= 0 and board[v.y][v.x - 1] == ' ':\n",
    "                        new_v = veh(v.id, v.x - 1, v.y,v.length, v.orientation)\n",
    "                        new_vehicles = self.vehicles.copy()\n",
    "                        new_vehicles.remove(v)\n",
    "                        new_vehicles.add(new_v)\n",
    "                        yield bb(new_vehicles)\n",
    "                    if v.x + v.length <= 5 and board[v.y][v.x + v.length] == ' ':\n",
    "                        new_v = veh(v.id, v.x + 1, v.y,v.length, v.orientation)\n",
    "                        new_vehicles = self.vehicles.copy()\n",
    "                        new_vehicles.remove(v)\n",
    "                        new_vehicles.append(new_v)\n",
    "                        yield bb(new_vehicles)\n",
    "                else:\n",
    "                    if v.y - 1 >= 0 and board[v.y - 1][v.x] == ' ':\n",
    "                        new_v = veh(v.id, v.x, v.y - 1 ,v.length, v.orientation)\n",
    "                        new_vehicles = self.vehicles.copy()\n",
    "                        new_vehicles.remove(v)\n",
    "                        new_vehicles.append(new_v)\n",
    "                        yield bb(new_vehicles)\n",
    "                    if v.y + v.length <= 5 and board[v.y + v.length][v.x] == ' ':\n",
    "                        new_v = veh(v.id, v.x, v.y + 1,v.length, v.orientation)\n",
    "                        new_vehicles = self.vehicles.copy()\n",
    "                        new_vehicles.remove(v)\n",
    "                        new_vehicles.append(new_v)\n",
    "                        yield bb(new_vehicles)\n",
    "\n",
    "    def solved(self):\n",
    "        \"\"\"Returns true if the board is in a solved state.\"\"\"\n",
    "        return veh('A', 4, 2,2, 'H') in self.vehicles\n",
    "\n",
    "    \n",
    "                        \n",
    "def bfs(r ,max_depth):\n",
    "    visited = set()\n",
    "    solutions = list()\n",
    "    depth_states = dict()\n",
    "\n",
    "    queue = deque()\n",
    "    queue.appendleft((r, tuple()))\n",
    "    while len(queue) != 0:\n",
    "        board, path = queue.pop()\n",
    "        new_path = path + tuple([board])\n",
    "\n",
    "        depth_states[len(new_path)] = depth_states.get(len(new_path), 0) + 1\n",
    "\n",
    "        if len(new_path) >= max_depth:\n",
    "            break\n",
    "\n",
    "        if board in visited:\n",
    "            continue\n",
    "        else:\n",
    "            visited.add(board)\n",
    "\n",
    "        if board.solved():\n",
    "            solutions.append(new_path)\n",
    "        else:\n",
    "            queue.extendleft((move, new_path) for move in board.moves())\n",
    "\n",
    "        return {'visited': visited,\n",
    "                'solutions': solutions,\n",
    "                'depth_states': depth_states}\n"
   ]
  },
  {
   "cell_type": "code",
   "execution_count": 29,
   "id": "ace49c88",
   "metadata": {},
   "outputs": [],
   "source": [
    "ex1 = bb(set(l1))"
   ]
  },
  {
   "cell_type": "code",
   "execution_count": 30,
   "id": "b5b8fcb3",
   "metadata": {},
   "outputs": [
    {
     "ename": "AttributeError",
     "evalue": "'set' object has no attribute 'append'",
     "output_type": "error",
     "traceback": [
      "\u001b[1;31m---------------------------------------------------------------------------\u001b[0m",
      "\u001b[1;31mAttributeError\u001b[0m                            Traceback (most recent call last)",
      "\u001b[1;32m<ipython-input-30-8ad07c86a04a>\u001b[0m in \u001b[0;36m<module>\u001b[1;34m\u001b[0m\n\u001b[1;32m----> 1\u001b[1;33m \u001b[0mprint\u001b[0m\u001b[1;33m(\u001b[0m\u001b[0mbfs\u001b[0m\u001b[1;33m(\u001b[0m\u001b[0mex1\u001b[0m\u001b[1;33m,\u001b[0m\u001b[1;36m100\u001b[0m\u001b[1;33m)\u001b[0m\u001b[1;33m)\u001b[0m\u001b[1;33m\u001b[0m\u001b[1;33m\u001b[0m\u001b[0m\n\u001b[0m",
      "\u001b[1;32m<ipython-input-28-1e5c8d4dea83>\u001b[0m in \u001b[0;36mbfs\u001b[1;34m(r, max_depth)\u001b[0m\n\u001b[0;32m     78\u001b[0m             \u001b[0msolutions\u001b[0m\u001b[1;33m.\u001b[0m\u001b[0mappend\u001b[0m\u001b[1;33m(\u001b[0m\u001b[0mnew_path\u001b[0m\u001b[1;33m)\u001b[0m\u001b[1;33m\u001b[0m\u001b[1;33m\u001b[0m\u001b[0m\n\u001b[0;32m     79\u001b[0m         \u001b[1;32melse\u001b[0m\u001b[1;33m:\u001b[0m\u001b[1;33m\u001b[0m\u001b[1;33m\u001b[0m\u001b[0m\n\u001b[1;32m---> 80\u001b[1;33m             \u001b[0mqueue\u001b[0m\u001b[1;33m.\u001b[0m\u001b[0mextendleft\u001b[0m\u001b[1;33m(\u001b[0m\u001b[1;33m(\u001b[0m\u001b[0mmove\u001b[0m\u001b[1;33m,\u001b[0m \u001b[0mnew_path\u001b[0m\u001b[1;33m)\u001b[0m \u001b[1;32mfor\u001b[0m \u001b[0mmove\u001b[0m \u001b[1;32min\u001b[0m \u001b[0mboard\u001b[0m\u001b[1;33m.\u001b[0m\u001b[0mmoves\u001b[0m\u001b[1;33m(\u001b[0m\u001b[1;33m)\u001b[0m\u001b[1;33m)\u001b[0m\u001b[1;33m\u001b[0m\u001b[1;33m\u001b[0m\u001b[0m\n\u001b[0m\u001b[0;32m     81\u001b[0m \u001b[1;33m\u001b[0m\u001b[0m\n\u001b[0;32m     82\u001b[0m         return {'visited': visited,\n",
      "\u001b[1;32m<ipython-input-28-1e5c8d4dea83>\u001b[0m in \u001b[0;36m<genexpr>\u001b[1;34m(.0)\u001b[0m\n\u001b[0;32m     78\u001b[0m             \u001b[0msolutions\u001b[0m\u001b[1;33m.\u001b[0m\u001b[0mappend\u001b[0m\u001b[1;33m(\u001b[0m\u001b[0mnew_path\u001b[0m\u001b[1;33m)\u001b[0m\u001b[1;33m\u001b[0m\u001b[1;33m\u001b[0m\u001b[0m\n\u001b[0;32m     79\u001b[0m         \u001b[1;32melse\u001b[0m\u001b[1;33m:\u001b[0m\u001b[1;33m\u001b[0m\u001b[1;33m\u001b[0m\u001b[0m\n\u001b[1;32m---> 80\u001b[1;33m             \u001b[0mqueue\u001b[0m\u001b[1;33m.\u001b[0m\u001b[0mextendleft\u001b[0m\u001b[1;33m(\u001b[0m\u001b[1;33m(\u001b[0m\u001b[0mmove\u001b[0m\u001b[1;33m,\u001b[0m \u001b[0mnew_path\u001b[0m\u001b[1;33m)\u001b[0m \u001b[1;32mfor\u001b[0m \u001b[0mmove\u001b[0m \u001b[1;32min\u001b[0m \u001b[0mboard\u001b[0m\u001b[1;33m.\u001b[0m\u001b[0mmoves\u001b[0m\u001b[1;33m(\u001b[0m\u001b[1;33m)\u001b[0m\u001b[1;33m)\u001b[0m\u001b[1;33m\u001b[0m\u001b[1;33m\u001b[0m\u001b[0m\n\u001b[0m\u001b[0;32m     81\u001b[0m \u001b[1;33m\u001b[0m\u001b[0m\n\u001b[0;32m     82\u001b[0m         return {'visited': visited,\n",
      "\u001b[1;32m<ipython-input-28-1e5c8d4dea83>\u001b[0m in \u001b[0;36mmoves\u001b[1;34m(self)\u001b[0m\n\u001b[0;32m     32\u001b[0m                         \u001b[0mnew_vehicles\u001b[0m \u001b[1;33m=\u001b[0m \u001b[0mself\u001b[0m\u001b[1;33m.\u001b[0m\u001b[0mvehicles\u001b[0m\u001b[1;33m.\u001b[0m\u001b[0mcopy\u001b[0m\u001b[1;33m(\u001b[0m\u001b[1;33m)\u001b[0m\u001b[1;33m\u001b[0m\u001b[1;33m\u001b[0m\u001b[0m\n\u001b[0;32m     33\u001b[0m                         \u001b[0mnew_vehicles\u001b[0m\u001b[1;33m.\u001b[0m\u001b[0mremove\u001b[0m\u001b[1;33m(\u001b[0m\u001b[0mv\u001b[0m\u001b[1;33m)\u001b[0m\u001b[1;33m\u001b[0m\u001b[1;33m\u001b[0m\u001b[0m\n\u001b[1;32m---> 34\u001b[1;33m                         \u001b[0mnew_vehicles\u001b[0m\u001b[1;33m.\u001b[0m\u001b[0mappend\u001b[0m\u001b[1;33m(\u001b[0m\u001b[0mnew_v\u001b[0m\u001b[1;33m)\u001b[0m\u001b[1;33m\u001b[0m\u001b[1;33m\u001b[0m\u001b[0m\n\u001b[0m\u001b[0;32m     35\u001b[0m                         \u001b[1;32myield\u001b[0m \u001b[0mbb\u001b[0m\u001b[1;33m(\u001b[0m\u001b[0mnew_vehicles\u001b[0m\u001b[1;33m)\u001b[0m\u001b[1;33m\u001b[0m\u001b[1;33m\u001b[0m\u001b[0m\n\u001b[0;32m     36\u001b[0m                 \u001b[1;32melse\u001b[0m\u001b[1;33m:\u001b[0m\u001b[1;33m\u001b[0m\u001b[1;33m\u001b[0m\u001b[0m\n",
      "\u001b[1;31mAttributeError\u001b[0m: 'set' object has no attribute 'append'"
     ]
    }
   ],
   "source": [
    "print(bfs(ex1,100))"
   ]
  },
  {
   "cell_type": "code",
   "execution_count": 31,
   "id": "f1a8147a",
   "metadata": {},
   "outputs": [
    {
     "data": {
      "text/plain": [
       "{<__main__.veh at 0x23a1bd93520>,\n",
       " <__main__.veh at 0x23a1bd93760>,\n",
       " <__main__.veh at 0x23a1bd937c0>,\n",
       " <__main__.veh at 0x23a1bd938b0>,\n",
       " <__main__.veh at 0x23a1bd938e0>,\n",
       " <__main__.veh at 0x23a1bd93b20>,\n",
       " <__main__.veh at 0x23a1bd93be0>,\n",
       " <__main__.veh at 0x23a1bd93c10>,\n",
       " <__main__.veh at 0x23a1bd93d60>,\n",
       " <__main__.veh at 0x23a1bd93d90>,\n",
       " <__main__.veh at 0x23a1bd93eb0>,\n",
       " <__main__.veh at 0x23a1bd93f70>}"
      ]
     },
     "execution_count": 31,
     "metadata": {},
     "output_type": "execute_result"
    }
   ],
   "source": [
    "set(l1)"
   ]
  },
  {
   "cell_type": "code",
   "execution_count": 32,
   "id": "2de702dd",
   "metadata": {},
   "outputs": [
    {
     "data": {
      "text/plain": [
       "[<__main__.veh at 0x23a1bd93d90>,\n",
       " <__main__.veh at 0x23a1bd93eb0>,\n",
       " <__main__.veh at 0x23a1bd93be0>,\n",
       " <__main__.veh at 0x23a1bd93f70>,\n",
       " <__main__.veh at 0x23a1bd938e0>,\n",
       " <__main__.veh at 0x23a1bd93760>,\n",
       " <__main__.veh at 0x23a1bd93d60>,\n",
       " <__main__.veh at 0x23a1bd937c0>,\n",
       " <__main__.veh at 0x23a1bd93c10>,\n",
       " <__main__.veh at 0x23a1bd938b0>,\n",
       " <__main__.veh at 0x23a1bd93520>,\n",
       " <__main__.veh at 0x23a1bd93b20>]"
      ]
     },
     "execution_count": 32,
     "metadata": {},
     "output_type": "execute_result"
    }
   ],
   "source": [
    "l1"
   ]
  },
  {
   "cell_type": "code",
   "execution_count": null,
   "id": "c06413b4",
   "metadata": {},
   "outputs": [],
   "source": []
  }
 ],
 "metadata": {
  "kernelspec": {
   "display_name": "Python 3",
   "language": "python",
   "name": "python3"
  },
  "language_info": {
   "codemirror_mode": {
    "name": "ipython",
    "version": 3
   },
   "file_extension": ".py",
   "mimetype": "text/x-python",
   "name": "python",
   "nbconvert_exporter": "python",
   "pygments_lexer": "ipython3",
   "version": "3.8.8"
  }
 },
 "nbformat": 4,
 "nbformat_minor": 5
}
