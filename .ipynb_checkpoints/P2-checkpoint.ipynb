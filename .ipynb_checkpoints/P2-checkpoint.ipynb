{
 "cells": [
  {
   "cell_type": "code",
   "execution_count": 4,
   "id": "0c591785",
   "metadata": {},
   "outputs": [],
   "source": [
    "import numpy as np"
   ]
  },
  {
   "cell_type": "code",
   "execution_count": 3,
   "id": "7212858b",
   "metadata": {},
   "outputs": [],
   "source": [
    "file = \"sample-input.txt\""
   ]
  },
  {
   "cell_type": "code",
   "execution_count": 5,
   "id": "09146dfc",
   "metadata": {},
   "outputs": [],
   "source": [
    "class Vehicle:\n",
    "    \n",
    "    def __init__(self,char, axis ,x, y,length,fuel):\n",
    "        if char.isalpha():\n",
    "            self.char = char\n",
    "        else:\n",
    "            raise ValueError('Not a letter.')\n",
    "        \n",
    "        self.axis = axis\n",
    "        \n",
    "#         self.x = x\n",
    "#         self.y = y\n",
    "        \n",
    "        if 0 <= x <=5:\n",
    "            self.x = x\n",
    "        else:\n",
    "             raise ValueError('x is wrong size')\n",
    "        if 0 <= y <=5:\n",
    "            self.y = y\n",
    "            #raise ValueError('y is wrong size')\n",
    "       \n",
    "        self.length = length\n",
    "            \n",
    "        self.fuel = fuel\n",
    "        \n",
    "    \n",
    "    def set_fuel(val):\n",
    "        self.fuel = val\n",
    "    \n",
    "    def set_axis(val):\n",
    "        self.axis = val\n",
    "    def set_x(val):\n",
    "        self.x = val\n",
    "    def set_y(val):\n",
    "        self.y = val\n",
    "    def set_length(val):\n",
    "        self.length = val\n",
    "    \n",
    "    \n",
    "            \n",
    "    def __str__(self):\n",
    "        return f\"Vehicle({self.char},{self.axis},{self.x},{self.y},{self.length},{self.fuel})\""
   ]
  },
  {
   "cell_type": "code",
   "execution_count": 7,
   "id": "2ed94c21",
   "metadata": {},
   "outputs": [],
   "source": [
    "def string_to_matrix(line,n):\n",
    "    temp = [line[char: char + n] for char in range(0, len(line), n)]\n",
    "    \n",
    "    matrix = [list(x) for x in temp]\n",
    "    \n",
    "    return np.array(matrix)\n",
    "    "
   ]
  },
  {
   "cell_type": "code",
   "execution_count": 8,
   "id": "35fe9c05",
   "metadata": {},
   "outputs": [],
   "source": [
    "def matrix_vehicles(line,n):\n",
    "    cars0_fuels = line.split()\n",
    "    matrix = string_to_matrix(cars0_fuels[0],n)\n",
    "    fuels = {}\n",
    "    temp = []\n",
    "    encountered = set()\n",
    "    for pair in cars0_fuels[1:]:\n",
    "        fuels[pair[0]] = pair[1]\n",
    "    for car in cars0_fuels[0]:\n",
    "        if car not in fuels:\n",
    "            fuels[car] = 100\n",
    "    \n",
    "    for row_count,row in enumerate(matrix):\n",
    "        for col,ele in enumerate(row):\n",
    "            if ele == \".\" or ele in encountered:\n",
    "                continue\n",
    "            else:\n",
    "                if col == len(row)-1: #end of the row / last col in row\n",
    "                    if matrix[row_count][col-1] == ele: #check if left is the same value\n",
    "                        axis = \"horizontal\"\n",
    "                    else:\n",
    "                        axis = \"vertical\"\n",
    "                elif col == 0: #beginning of a row /first col in row\n",
    "                    if matrix[row_count][col+1] == ele:  #check if right is the same value\n",
    "                        axis = \"horizontal\"\n",
    "                    else:\n",
    "                        axis = \"vertical\"\n",
    "                else: # somewhere in row\n",
    "                    if matrix[row_count][col+1] == ele or matrix[row_count][col-1]== ele: \n",
    "                        axis = \"horizontal\"\n",
    "                    else:\n",
    "                        axis = \"vertical\"\n",
    "                        \n",
    "                encountered.add(ele)\n",
    "                length = cars0_fuels[0].count(ele)\n",
    "                car_fuel = fuels.get(ele)\n",
    "                new_car = Vehicle(ele,axis,row_count,col,length,car_fuel)\n",
    "                temp.append(new_car)\n",
    "    return temp\n",
    "                \n",
    "        \n",
    "    "
   ]
  },
  {
   "cell_type": "code",
   "execution_count": 9,
   "id": "9a3ba20d",
   "metadata": {},
   "outputs": [],
   "source": [
    "def start_board(path,n):\n",
    "    with open(path) as f:\n",
    "        games = []\n",
    "        vehicles = []\n",
    "        num_games = 0\n",
    "        for line in f.readlines():\n",
    "            board = []\n",
    "            if line[0] ==\"#\" or line[0]==\"\\n\":\n",
    "                continue\n",
    "            else:\n",
    "                cars0_fuel = line.split()\n",
    "                matrix = string_to_matrix(cars0_fuel[0],n)\n",
    "                \n",
    "                #return matrix\n",
    "                games.append(matrix)\n",
    "               \n",
    "                num_games+=1\n",
    "\n",
    "                \n",
    "        \n",
    "        return games\n",
    "            \n",
    "                \n",
    "            \n",
    "                        \n",
    "                \n",
    "        \n",
    "    "
   ]
  },
  {
   "cell_type": "code",
   "execution_count": 10,
   "id": "e1286ca2",
   "metadata": {
    "scrolled": true
   },
   "outputs": [],
   "source": [
    "games = start_board(file,6)"
   ]
  },
  {
   "cell_type": "code",
   "execution_count": 11,
   "id": "cf18ac69",
   "metadata": {
    "scrolled": true
   },
   "outputs": [
    {
     "data": {
      "text/plain": [
       "[array([['B', 'B', 'I', 'J', '.', '.'],\n",
       "        ['.', '.', 'I', 'J', 'C', 'C'],\n",
       "        ['.', '.', 'I', 'A', 'A', 'M'],\n",
       "        ['G', 'D', 'D', 'K', '.', 'M'],\n",
       "        ['G', 'H', '.', 'K', 'L', '.'],\n",
       "        ['G', 'H', 'F', 'F', 'L', '.']], dtype='<U1'),\n",
       " array([['.', '.', 'I', '.', '.', '.'],\n",
       "        ['B', 'B', 'I', '.', 'K', '.'],\n",
       "        ['G', 'H', 'A', 'A', 'K', 'L'],\n",
       "        ['G', 'H', 'D', 'D', 'K', 'L'],\n",
       "        ['G', '.', '.', 'J', 'E', 'E'],\n",
       "        ['F', 'F', '.', 'J', '.', '.']], dtype='<U1'),\n",
       " array([['J', 'B', 'B', 'C', 'C', 'C'],\n",
       "        ['J', 'D', 'D', '.', '.', 'M'],\n",
       "        ['J', 'A', 'A', 'L', '.', 'M'],\n",
       "        ['F', 'F', 'K', 'L', '.', 'N'],\n",
       "        ['.', '.', 'K', 'G', 'G', 'N'],\n",
       "        ['.', 'H', 'H', '.', '.', '.']], dtype='<U1'),\n",
       " array([['B', 'B', 'B', '.', '.', 'M'],\n",
       "        ['C', 'C', 'D', 'D', '.', 'M'],\n",
       "        ['A', 'A', 'K', 'L', '.', 'M'],\n",
       "        ['J', '.', 'K', 'L', 'E', 'E'],\n",
       "        ['J', '.', 'G', 'G', '.', '.'],\n",
       "        ['J', 'H', 'H', 'H', 'I', 'I']], dtype='<U1'),\n",
       " array([['I', 'J', 'B', 'B', 'C', 'C'],\n",
       "        ['I', 'J', 'D', 'D', 'L', '.'],\n",
       "        ['I', 'J', 'A', 'A', 'L', '.'],\n",
       "        ['E', 'E', 'K', '.', 'L', '.'],\n",
       "        ['.', '.', 'K', 'F', 'F', '.'],\n",
       "        ['.', 'G', 'G', 'H', 'H', '.']], dtype='<U1'),\n",
       " array([['B', 'B', '.', 'G', '.', 'H'],\n",
       "        ['E', '.', '.', 'G', '.', 'H'],\n",
       "        ['E', 'A', 'A', 'G', '.', 'I'],\n",
       "        ['.', '.', 'F', 'C', 'C', 'I'],\n",
       "        ['D', 'D', 'F', '.', '.', 'I'],\n",
       "        ['.', '.', 'F', '.', '.', '.']], dtype='<U1')]"
      ]
     },
     "execution_count": 11,
     "metadata": {},
     "output_type": "execute_result"
    }
   ],
   "source": [
    "games"
   ]
  },
  {
   "cell_type": "code",
   "execution_count": 9,
   "id": "3c1bcbc4",
   "metadata": {},
   "outputs": [
    {
     "data": {
      "text/plain": [
       "array(['B', 'B', 'I', 'J', '.', '.'], dtype='<U1')"
      ]
     },
     "execution_count": 9,
     "metadata": {},
     "output_type": "execute_result"
    }
   ],
   "source": [
    "games[0][0] #game , row of game , column of row"
   ]
  },
  {
   "cell_type": "code",
   "execution_count": 10,
   "id": "feca3463",
   "metadata": {},
   "outputs": [],
   "source": [
    "games[0][0] = ['.','.','b','b','m','d']"
   ]
  },
  {
   "cell_type": "code",
   "execution_count": 11,
   "id": "76b63b30",
   "metadata": {},
   "outputs": [
    {
     "data": {
      "text/plain": [
       "array(['.', '.', 'b', 'b', 'm', 'd'], dtype='<U1')"
      ]
     },
     "execution_count": 11,
     "metadata": {},
     "output_type": "execute_result"
    }
   ],
   "source": [
    "games[0][0]"
   ]
  },
  {
   "cell_type": "code",
   "execution_count": 12,
   "id": "ab52f3d8",
   "metadata": {},
   "outputs": [
    {
     "data": {
      "text/plain": [
       "array([['.', '.', 'b', 'b', 'm', 'd'],\n",
       "       ['.', '.', 'I', 'J', 'C', 'C'],\n",
       "       ['.', '.', 'I', 'A', 'A', 'M'],\n",
       "       ['G', 'D', 'D', 'K', '.', 'M'],\n",
       "       ['G', 'H', '.', 'K', 'L', '.'],\n",
       "       ['G', 'H', 'F', 'F', 'L', '.']], dtype='<U1')"
      ]
     },
     "execution_count": 12,
     "metadata": {},
     "output_type": "execute_result"
    }
   ],
   "source": [
    "games[0]"
   ]
  },
  {
   "cell_type": "code",
   "execution_count": 13,
   "id": "82a0caea",
   "metadata": {
    "scrolled": false
   },
   "outputs": [
    {
     "name": "stdout",
     "output_type": "stream",
     "text": [
      "Vehicle(B,horizontal,0,0,3,4)\n",
      "Vehicle(M,vertical,0,5,3,100)\n",
      "Vehicle(C,horizontal,1,0,2,100)\n",
      "Vehicle(D,horizontal,1,2,2,100)\n",
      "Vehicle(A,horizontal,2,0,2,100)\n",
      "Vehicle(K,vertical,2,2,2,100)\n",
      "Vehicle(L,vertical,2,3,2,100)\n",
      "Vehicle(J,vertical,3,0,3,0)\n",
      "Vehicle(E,horizontal,3,4,2,100)\n",
      "Vehicle(G,horizontal,4,2,2,100)\n",
      "Vehicle(H,horizontal,5,1,3,100)\n",
      "Vehicle(I,horizontal,5,4,2,100)\n"
     ]
    }
   ],
   "source": [
    "# example with fuels\n",
    "test = \"BBB..MCCDD.MAAKL.MJ.KLEEJ.GG..JHHHII J0 B4\"\n",
    "cars_game0 = matrix_vehicles(test,6)\n",
    "for car in cars_game0:\n",
    "    print(car)"
   ]
  },
  {
   "cell_type": "code",
   "execution_count": 14,
   "id": "763899b9",
   "metadata": {
    "scrolled": true
   },
   "outputs": [
    {
     "name": "stdout",
     "output_type": "stream",
     "text": [
      "Vehicle(B,horizontal,0,0,3,100)\n",
      "Vehicle(M,vertical,0,5,3,100)\n",
      "Vehicle(C,horizontal,1,0,2,100)\n",
      "Vehicle(D,horizontal,1,2,2,100)\n",
      "Vehicle(A,horizontal,2,0,2,100)\n",
      "Vehicle(K,vertical,2,2,2,100)\n",
      "Vehicle(L,vertical,2,3,2,100)\n",
      "Vehicle(J,vertical,3,0,3,100)\n",
      "Vehicle(E,horizontal,3,4,2,100)\n",
      "Vehicle(G,horizontal,4,2,2,100)\n",
      "Vehicle(H,horizontal,5,1,3,100)\n",
      "Vehicle(I,horizontal,5,4,2,100)\n"
     ]
    }
   ],
   "source": [
    "# example with no fuels\n",
    "test2 = \"BBB..MCCDD.MAAKL.MJ.KLEEJ.GG..JHHHII\"\n",
    "cars_game2 = matrix_vehicles(test2,6)\n",
    "for car in cars_game2:\n",
    "    print(car)"
   ]
  },
  {
   "cell_type": "code",
   "execution_count": 15,
   "id": "5bbc5eb3",
   "metadata": {},
   "outputs": [],
   "source": [
    "# for the algorithms, change the implementations of the open list\n",
    "# check how code is structured for last tutorial\n",
    "\n",
    "# how to move as much as i want in a direction?\n",
    "#while loop for each movement?"
   ]
  },
  {
   "cell_type": "code",
   "execution_count": 16,
   "id": "97c1f3a8",
   "metadata": {},
   "outputs": [],
   "source": [
    "from copy import deepcopy"
   ]
  },
  {
   "cell_type": "code",
   "execution_count": 17,
   "id": "4a3d7398",
   "metadata": {},
   "outputs": [
    {
     "ename": "SyntaxError",
     "evalue": "unexpected EOF while parsing (<ipython-input-17-d92a9b1f94bd>, line 11)",
     "output_type": "error",
     "traceback": [
      "\u001b[1;36m  File \u001b[1;32m\"<ipython-input-17-d92a9b1f94bd>\"\u001b[1;36m, line \u001b[1;32m11\u001b[0m\n\u001b[1;33m    \u001b[0m\n\u001b[1;37m    ^\u001b[0m\n\u001b[1;31mSyntaxError\u001b[0m\u001b[1;31m:\u001b[0m unexpected EOF while parsing\n"
     ]
    }
   ],
   "source": [
    "def spawn(board,board_vehicles):\n",
    "    for vehicle in board_vehicles:\n",
    "        if vehicle.axis == \"horizontal\":\n",
    "            board_up = deepcopy(board)\n",
    "            board_down = deepcopy(board)\n",
    "            while vehicle.x - 1>=0 and board[vehicle.x-1][vehicle.y] == \".\":\n",
    "                #take old board and move it back once where the . is.\n",
    "                # maybe make a copy of that current row and then overwrite that copy with new stuff\n",
    "                # then set row equal to that? and yield the new board\n",
    "                \n",
    "    "
   ]
  }
 ],
 "metadata": {
  "kernelspec": {
   "display_name": "Python 3 (ipykernel)",
   "language": "python",
   "name": "python3"
  },
  "language_info": {
   "codemirror_mode": {
    "name": "ipython",
    "version": 3
   },
   "file_extension": ".py",
   "mimetype": "text/x-python",
   "name": "python",
   "nbconvert_exporter": "python",
   "pygments_lexer": "ipython3",
   "version": "3.9.5"
  }
 },
 "nbformat": 4,
 "nbformat_minor": 5
}
